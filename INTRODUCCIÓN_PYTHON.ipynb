{
  "nbformat": 4,
  "nbformat_minor": 0,
  "metadata": {
    "colab": {
      "name": "INTRODUCCIÓN PYTHON.ipynb",
      "provenance": [],
      "collapsed_sections": [],
      "authorship_tag": "ABX9TyNlDBx79DQyRA0U91iy77Pa",
      "include_colab_link": true
    },
    "kernelspec": {
      "name": "python3",
      "display_name": "Python 3"
    },
    "language_info": {
      "name": "python"
    }
  },
  "cells": [
    {
      "cell_type": "markdown",
      "metadata": {
        "id": "view-in-github",
        "colab_type": "text"
      },
      "source": [
        "<a href=\"https://colab.research.google.com/github/ixchelinas/DIPLOMADOG15/blob/MODULO-I/INTRODUCCI%C3%93N_PYTHON.ipynb\" target=\"_parent\"><img src=\"https://colab.research.google.com/assets/colab-badge.svg\" alt=\"Open In Colab\"/></a>"
      ]
    },
    {
      "cell_type": "code",
      "execution_count": 1,
      "metadata": {
        "colab": {
          "base_uri": "https://localhost:8080/"
        },
        "id": "ATN66n0cLJyI",
        "outputId": "411577d2-3db5-4b4d-e2c6-bfe168b7da93"
      },
      "outputs": [
        {
          "output_type": "stream",
          "name": "stdout",
          "text": [
            "hola mundo\n"
          ]
        }
      ],
      "source": [
        "# imprimir \n",
        "print('hola mundo')"
      ]
    },
    {
      "cell_type": "code",
      "source": [
        ""
      ],
      "metadata": {
        "id": "915fHyisLaz1"
      },
      "execution_count": null,
      "outputs": []
    },
    {
      "cell_type": "markdown",
      "source": [
        "# TIPOS DE DATOS\n"
      ],
      "metadata": {
        "id": "LeJI-p99MPSh"
      }
    },
    {
      "cell_type": "code",
      "source": [
        "x = 15 \n",
        "type(x)"
      ],
      "metadata": {
        "colab": {
          "base_uri": "https://localhost:8080/"
        },
        "id": "c2RU0ibRMVk1",
        "outputId": "96ffcf33-61c1-4dc4-fac3-647ae904f23e"
      },
      "execution_count": 2,
      "outputs": [
        {
          "output_type": "execute_result",
          "data": {
            "text/plain": [
              "int"
            ]
          },
          "metadata": {},
          "execution_count": 2
        }
      ]
    },
    {
      "cell_type": "code",
      "source": [
        "y = 98.5\n",
        "type(y)"
      ],
      "metadata": {
        "colab": {
          "base_uri": "https://localhost:8080/"
        },
        "id": "u-in2VQeMcCE",
        "outputId": "b1cddfd1-8210-4a8d-ba38-ce50095ed140"
      },
      "execution_count": 3,
      "outputs": [
        {
          "output_type": "execute_result",
          "data": {
            "text/plain": [
              "float"
            ]
          },
          "metadata": {},
          "execution_count": 3
        }
      ]
    },
    {
      "cell_type": "code",
      "source": [
        "nombre = 'ixchel'\n",
        "type(nombre)"
      ],
      "metadata": {
        "colab": {
          "base_uri": "https://localhost:8080/"
        },
        "id": "Lx5wxasbMjzj",
        "outputId": "2ac39e72-4a57-4206-fa4c-36093991387c"
      },
      "execution_count": 4,
      "outputs": [
        {
          "output_type": "execute_result",
          "data": {
            "text/plain": [
              "str"
            ]
          },
          "metadata": {},
          "execution_count": 4
        }
      ]
    },
    {
      "cell_type": "code",
      "source": [
        "flag = True \n",
        "type(flag)"
      ],
      "metadata": {
        "colab": {
          "base_uri": "https://localhost:8080/"
        },
        "id": "zgnRwX-nMoQj",
        "outputId": "647af65f-0923-46dc-c11b-00f263e7d623"
      },
      "execution_count": 5,
      "outputs": [
        {
          "output_type": "execute_result",
          "data": {
            "text/plain": [
              "bool"
            ]
          },
          "metadata": {},
          "execution_count": 5
        }
      ]
    },
    {
      "cell_type": "code",
      "source": [
        "nombre + ' Pineda'"
      ],
      "metadata": {
        "colab": {
          "base_uri": "https://localhost:8080/",
          "height": 35
        },
        "id": "Z8cPTFvyMtCH",
        "outputId": "20a78881-1f92-43e1-a1b0-fbb2914d486d"
      },
      "execution_count": 6,
      "outputs": [
        {
          "output_type": "execute_result",
          "data": {
            "text/plain": [
              "'ixchel Pineda'"
            ],
            "application/vnd.google.colaboratory.intrinsic+json": {
              "type": "string"
            }
          },
          "metadata": {},
          "execution_count": 6
        }
      ]
    },
    {
      "cell_type": "code",
      "source": [
        "x + y"
      ],
      "metadata": {
        "colab": {
          "base_uri": "https://localhost:8080/"
        },
        "id": "mO49HK3rMx-O",
        "outputId": "a22f661a-3df8-4f82-a9f0-7b2325e8b970"
      },
      "execution_count": 7,
      "outputs": [
        {
          "output_type": "execute_result",
          "data": {
            "text/plain": [
              "113.5"
            ]
          },
          "metadata": {},
          "execution_count": 7
        }
      ]
    },
    {
      "cell_type": "code",
      "source": [
        "z = x + y"
      ],
      "metadata": {
        "id": "EXfrONVPMz9i"
      },
      "execution_count": 8,
      "outputs": []
    },
    {
      "cell_type": "code",
      "source": [
        "print(f'resultado:,{z}')"
      ],
      "metadata": {
        "colab": {
          "base_uri": "https://localhost:8080/"
        },
        "id": "4z_VURUZM2nj",
        "outputId": "f9ea01fe-8d9a-4072-d544-0a6ad6bc4ac0"
      },
      "execution_count": 10,
      "outputs": [
        {
          "output_type": "stream",
          "name": "stdout",
          "text": [
            "resultado:,113.5\n"
          ]
        }
      ]
    },
    {
      "cell_type": "code",
      "source": [
        "#listas\n",
        "\n",
        "lista = []\n"
      ],
      "metadata": {
        "id": "P5n18AsXNFaS"
      },
      "execution_count": 12,
      "outputs": []
    },
    {
      "cell_type": "code",
      "source": [
        "lista = [1,2,3,4,5]"
      ],
      "metadata": {
        "id": "yxwOJbMqNQod"
      },
      "execution_count": 13,
      "outputs": []
    },
    {
      "cell_type": "code",
      "source": [
        "lista"
      ],
      "metadata": {
        "colab": {
          "base_uri": "https://localhost:8080/"
        },
        "id": "Y5yWVNNqNUP5",
        "outputId": "16a0019b-6099-4cdf-8b8f-456f345922db"
      },
      "execution_count": 14,
      "outputs": [
        {
          "output_type": "execute_result",
          "data": {
            "text/plain": [
              "[1, 2, 3, 4, 5]"
            ]
          },
          "metadata": {},
          "execution_count": 14
        }
      ]
    },
    {
      "cell_type": "code",
      "source": [
        "# INDICES\n",
        "lista[0]"
      ],
      "metadata": {
        "colab": {
          "base_uri": "https://localhost:8080/"
        },
        "id": "e-t5X640ONea",
        "outputId": "9ad707fc-53e7-4cb3-8ec0-c0a2ea87791c"
      },
      "execution_count": 16,
      "outputs": [
        {
          "output_type": "execute_result",
          "data": {
            "text/plain": [
              "1"
            ]
          },
          "metadata": {},
          "execution_count": 16
        }
      ]
    },
    {
      "cell_type": "code",
      "source": [
        "lista[-1]"
      ],
      "metadata": {
        "colab": {
          "base_uri": "https://localhost:8080/"
        },
        "id": "rZ-DzUQQOirE",
        "outputId": "14ebcf6c-a677-49ac-aa87-b13060054f67"
      },
      "execution_count": 17,
      "outputs": [
        {
          "output_type": "execute_result",
          "data": {
            "text/plain": [
              "5"
            ]
          },
          "metadata": {},
          "execution_count": 17
        }
      ]
    },
    {
      "cell_type": "code",
      "source": [
        "for indice, elemento in enumerate(lista):\n",
        "  print(f\"elemento {elemento} en el lugar {indice}\")"
      ],
      "metadata": {
        "colab": {
          "base_uri": "https://localhost:8080/"
        },
        "id": "MNqkaSfvOk63",
        "outputId": "0e26250e-2d99-4958-dca0-d1a1905ecf9b"
      },
      "execution_count": 20,
      "outputs": [
        {
          "output_type": "stream",
          "name": "stdout",
          "text": [
            "elemento 1 en el lugar 0\n",
            "elemento 2 en el lugar 1\n",
            "elemento 3 en el lugar 2\n",
            "elemento 4 en el lugar 3\n",
            "elemento 5 en el lugar 4\n"
          ]
        }
      ]
    },
    {
      "cell_type": "markdown",
      "source": [
        "**DICCIONARIOS**\n"
      ],
      "metadata": {
        "id": "XptMT0yRPK1j"
      }
    },
    {
      "cell_type": "code",
      "source": [
        "dct = {'elemento 1':80, 'elemento 2':90}"
      ],
      "metadata": {
        "id": "Mz-up4hQPUl6"
      },
      "execution_count": 22,
      "outputs": []
    },
    {
      "cell_type": "code",
      "source": [
        "dct"
      ],
      "metadata": {
        "colab": {
          "base_uri": "https://localhost:8080/"
        },
        "id": "yxLl3qxZO_uZ",
        "outputId": "715ff614-9d16-4e4d-d34c-cc62e96d6396"
      },
      "execution_count": 23,
      "outputs": [
        {
          "output_type": "execute_result",
          "data": {
            "text/plain": [
              "{'elemento 1': 80, 'elemento 2': 90}"
            ]
          },
          "metadata": {},
          "execution_count": 23
        }
      ]
    },
    {
      "cell_type": "code",
      "source": [
        "dct['elemento 1']"
      ],
      "metadata": {
        "colab": {
          "base_uri": "https://localhost:8080/"
        },
        "id": "MjQHSnBOPmc5",
        "outputId": "1a1d1ce8-216a-403d-bdca-12f6422947db"
      },
      "execution_count": 24,
      "outputs": [
        {
          "output_type": "execute_result",
          "data": {
            "text/plain": [
              "80"
            ]
          },
          "metadata": {},
          "execution_count": 24
        }
      ]
    },
    {
      "cell_type": "code",
      "source": [
        "dtc2 = {'edad':31,'nombre':'Ixchel', 'direccion':'nr'}"
      ],
      "metadata": {
        "id": "RrFN0k-tPrTY"
      },
      "execution_count": 25,
      "outputs": []
    },
    {
      "cell_type": "code",
      "source": [
        "dtc2['nombre'], dtc2['edad']"
      ],
      "metadata": {
        "colab": {
          "base_uri": "https://localhost:8080/"
        },
        "id": "oHr8k7hmP3Yc",
        "outputId": "e3d2e431-729e-4dc5-eb54-848af2c7c234"
      },
      "execution_count": 28,
      "outputs": [
        {
          "output_type": "execute_result",
          "data": {
            "text/plain": [
              "('Ixchel', 31)"
            ]
          },
          "metadata": {},
          "execution_count": 28
        }
      ]
    },
    {
      "cell_type": "markdown",
      "source": [
        "## **CONDICIONES**"
      ],
      "metadata": {
        "id": "HqIjYDdVQFaA"
      }
    },
    {
      "cell_type": "code",
      "source": [
        "var = 200"
      ],
      "metadata": {
        "id": "-G_-nshFQKKn"
      },
      "execution_count": 29,
      "outputs": []
    },
    {
      "cell_type": "code",
      "source": [
        "if var < 300:\n",
        "  print('soy menor a 300')\n",
        "else:\n",
        "  print('no soy menor a 300')"
      ],
      "metadata": {
        "colab": {
          "base_uri": "https://localhost:8080/"
        },
        "id": "CH__MHMPQNT4",
        "outputId": "afb34fe7-1576-4655-a795-faa01c2e7857"
      },
      "execution_count": 30,
      "outputs": [
        {
          "output_type": "stream",
          "name": "stdout",
          "text": [
            "soy menor a 300\n"
          ]
        }
      ]
    },
    {
      "cell_type": "code",
      "source": [
        "if var < 100:\n",
        "  print(\"<100\")\n",
        "elif var < 200:\n",
        "  print(\"<200\")\n",
        "else: print(\">200 \"+f\"soy {var}\")"
      ],
      "metadata": {
        "colab": {
          "base_uri": "https://localhost:8080/"
        },
        "id": "dK94nkIaQWdz",
        "outputId": "0e36d181-5886-4ef3-9291-0192c2557920"
      },
      "execution_count": 31,
      "outputs": [
        {
          "output_type": "stream",
          "name": "stdout",
          "text": [
            ">200 soy 200\n"
          ]
        }
      ]
    },
    {
      "cell_type": "markdown",
      "source": [
        "# OPERADORES LOGICOS"
      ],
      "metadata": {
        "id": "3aR4EAV7RNMW"
      }
    },
    {
      "cell_type": "code",
      "source": [
        ""
      ],
      "metadata": {
        "id": "OjcNTjqwRRXu"
      },
      "execution_count": null,
      "outputs": []
    },
    {
      "cell_type": "markdown",
      "source": [
        "LIST COMPRENHENSION"
      ],
      "metadata": {
        "id": "f_nnvOTwR4CT"
      }
    },
    {
      "cell_type": "code",
      "source": [
        "lst = [elemento for elemento in lista]"
      ],
      "metadata": {
        "id": "yvjOLEAuR7XO"
      },
      "execution_count": 36,
      "outputs": []
    },
    {
      "cell_type": "code",
      "source": [
        "[e for e in lst if e <= 4]"
      ],
      "metadata": {
        "colab": {
          "base_uri": "https://localhost:8080/"
        },
        "id": "qlyYYpR9SC4m",
        "outputId": "2c7f9bda-c1ef-4c31-baba-d0bfa333adbe"
      },
      "execution_count": 39,
      "outputs": [
        {
          "output_type": "execute_result",
          "data": {
            "text/plain": [
              "[1, 2, 3, 4]"
            ]
          },
          "metadata": {},
          "execution_count": 39
        }
      ]
    },
    {
      "cell_type": "code",
      "source": [
        "[e if e >= 30 else e*10 for e in lst]"
      ],
      "metadata": {
        "colab": {
          "base_uri": "https://localhost:8080/"
        },
        "id": "HWLuNeN2SW0C",
        "outputId": "7b042956-2d1d-4f54-dda0-844b388de7ad"
      },
      "execution_count": 41,
      "outputs": [
        {
          "output_type": "execute_result",
          "data": {
            "text/plain": [
              "[10, 20, 30, 40, 50]"
            ]
          },
          "metadata": {},
          "execution_count": 41
        }
      ]
    },
    {
      "cell_type": "code",
      "source": [
        "import numpy as np\n",
        "import pandas as pd"
      ],
      "metadata": {
        "id": "576KcvRxSpgx"
      },
      "execution_count": 42,
      "outputs": []
    },
    {
      "cell_type": "code",
      "source": [
        "# funcion\n",
        "def funcion(variable):\n",
        "  r = variable * 10\n",
        "  return r"
      ],
      "metadata": {
        "id": "0kwMHL_LUrBl"
      },
      "execution_count": 46,
      "outputs": []
    },
    {
      "cell_type": "code",
      "source": [
        "funcion(\"luis \")"
      ],
      "metadata": {
        "colab": {
          "base_uri": "https://localhost:8080/",
          "height": 35
        },
        "id": "AXW3srKoU4Pu",
        "outputId": "d4a759ac-d424-4e97-c1f7-6d9b549bf328"
      },
      "execution_count": 49,
      "outputs": [
        {
          "output_type": "execute_result",
          "data": {
            "text/plain": [
              "'luis luis luis luis luis luis luis luis luis luis '"
            ],
            "application/vnd.google.colaboratory.intrinsic+json": {
              "type": "string"
            }
          },
          "metadata": {},
          "execution_count": 49
        }
      ]
    },
    {
      "cell_type": "code",
      "source": [
        "def funcion2 (una_lista):\n",
        "\n",
        "  mi_suma = 0.0 \n",
        "  for n in una_lista:\n",
        "    mi_suma = mi_suma + n\n",
        "  \n",
        "  return mi_suma"
      ],
      "metadata": {
        "id": "ypglCvQWV00W"
      },
      "execution_count": 54,
      "outputs": []
    },
    {
      "cell_type": "code",
      "source": [
        "funcion2(lista)"
      ],
      "metadata": {
        "colab": {
          "base_uri": "https://localhost:8080/"
        },
        "id": "KbyzamKoWMGI",
        "outputId": "9a122fc6-602f-4648-8faa-ab9141ee744e"
      },
      "execution_count": 56,
      "outputs": [
        {
          "output_type": "execute_result",
          "data": {
            "text/plain": [
              "15.0"
            ]
          },
          "metadata": {},
          "execution_count": 56
        }
      ]
    },
    {
      "cell_type": "code",
      "source": [
        ""
      ],
      "metadata": {
        "id": "BWHJNHhHVB2t"
      },
      "execution_count": null,
      "outputs": []
    }
  ]
}